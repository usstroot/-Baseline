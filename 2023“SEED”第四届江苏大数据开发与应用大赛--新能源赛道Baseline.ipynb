{
 "cells": [
  {
   "cell_type": "code",
   "execution_count": 1,
   "id": "c1040f75-626a-47f9-a0b7-0eb9ec2b9dd6",
   "metadata": {},
   "outputs": [],
   "source": [
    "import pandas as pd\n",
    "import pandas as pd\n",
    "import numpy as np\n",
    "import matplotlib.pyplot as plt\n",
    "import seaborn as sns\n",
    "\n",
    "import xgboost as xgb\n",
    "from sklearn.model_selection import KFold,GroupKFold\n",
    "from sklearn.metrics import mean_absolute_error\n",
    "from sklearn.metrics import mean_squared_error\n",
    "color_pal = sns.color_palette()"
   ]
  },
  {
   "cell_type": "code",
   "execution_count": 2,
   "id": "a5be4c0a-46b0-4cd9-9097-2b7e21d102f2",
   "metadata": {
    "tags": []
   },
   "outputs": [],
   "source": [
    "#!pip install scikit-learn --user\n",
    "#!pip install seaborn --user\n",
    "#!pip install xgboost --user"
   ]
  },
  {
   "cell_type": "markdown",
   "id": "a48f84be-bf1a-4305-867f-a13c5cb8502d",
   "metadata": {
    "tags": []
   },
   "source": [
    "### 导入数据"
   ]
  },
  {
   "cell_type": "code",
   "execution_count": 3,
   "id": "27a0fe98-bd97-4f01-bbec-0400c484f77c",
   "metadata": {},
   "outputs": [],
   "source": [
    "power_history_train = pd.read_csv('../raw_data/train/power_forecast_history.csv')"
   ]
  },
  {
   "cell_type": "code",
   "execution_count": 4,
   "id": "e7087271-e07a-461d-892e-e63fec0acccd",
   "metadata": {},
   "outputs": [],
   "source": [
    "power_history_train['tag']='train'"
   ]
  },
  {
   "cell_type": "code",
   "execution_count": 5,
   "id": "3640c1e9-0bc1-4d25-824f-01404706753e",
   "metadata": {},
   "outputs": [],
   "source": [
    "power_history_test = pd.read_csv('../raw_data/test/power_forecast_history.csv')"
   ]
  },
  {
   "cell_type": "code",
   "execution_count": 6,
   "id": "72ca8be4-e9d3-44ee-a7af-e355351ea772",
   "metadata": {},
   "outputs": [],
   "source": [
    "power_history_test['tag']='test'"
   ]
  },
  {
   "cell_type": "code",
   "execution_count": 7,
   "id": "d1311612-cf74-47c6-9070-a3728a6ef068",
   "metadata": {},
   "outputs": [],
   "source": [
    "power_history = pd.concat([power_history_train,power_history_test])"
   ]
  },
  {
   "cell_type": "code",
   "execution_count": 8,
   "id": "75c7f7f1-b23f-4e1c-8519-f5344aecfe54",
   "metadata": {},
   "outputs": [
    {
     "data": {
      "text/plain": [
       "(3650384, 11)"
      ]
     },
     "execution_count": 8,
     "metadata": {},
     "output_type": "execute_result"
    }
   ],
   "source": [
    "power_history.shape"
   ]
  },
  {
   "cell_type": "code",
   "execution_count": 9,
   "id": "6a8e59b1-10be-4f7f-b069-fb8eb83dddb2",
   "metadata": {},
   "outputs": [
    {
     "name": "stderr",
     "output_type": "stream",
     "text": [
      "/opt/conda/lib/python3.7/site-packages/ipykernel_launcher.py:2: FutureWarning: Indexing with multiple keys (implicitly converted to a tuple of keys) will be deprecated, use a list instead.\n",
      "  \n"
     ]
    }
   ],
   "source": [
    "#重构数据，以天为单位\n",
    "power_history = power_history.groupby(['id_encode','ds','tag'])['ele_price','ser_price','after_ser_price',\n",
    "                                                       'total_price','f1','f2','f3'].mean().reset_index()"
   ]
  },
  {
   "cell_type": "code",
   "execution_count": 10,
   "id": "4cce278a-f2b8-4b9c-acf7-55a570b091ea",
   "metadata": {},
   "outputs": [
    {
     "data": {
      "text/html": [
       "<div>\n",
       "<style scoped>\n",
       "    .dataframe tbody tr th:only-of-type {\n",
       "        vertical-align: middle;\n",
       "    }\n",
       "\n",
       "    .dataframe tbody tr th {\n",
       "        vertical-align: top;\n",
       "    }\n",
       "\n",
       "    .dataframe thead th {\n",
       "        text-align: right;\n",
       "    }\n",
       "</style>\n",
       "<table border=\"1\" class=\"dataframe\">\n",
       "  <thead>\n",
       "    <tr style=\"text-align: right;\">\n",
       "      <th></th>\n",
       "      <th>id_encode</th>\n",
       "      <th>ds</th>\n",
       "      <th>tag</th>\n",
       "      <th>ele_price</th>\n",
       "      <th>ser_price</th>\n",
       "      <th>after_ser_price</th>\n",
       "      <th>total_price</th>\n",
       "      <th>f1</th>\n",
       "      <th>f2</th>\n",
       "      <th>f3</th>\n",
       "    </tr>\n",
       "  </thead>\n",
       "  <tbody>\n",
       "    <tr>\n",
       "      <th>0</th>\n",
       "      <td>0</td>\n",
       "      <td>20220415</td>\n",
       "      <td>train</td>\n",
       "      <td>0.64</td>\n",
       "      <td>0.95</td>\n",
       "      <td>0.31</td>\n",
       "      <td>0.95</td>\n",
       "      <td>0.0</td>\n",
       "      <td>0.0</td>\n",
       "      <td>1.0</td>\n",
       "    </tr>\n",
       "    <tr>\n",
       "      <th>1</th>\n",
       "      <td>0</td>\n",
       "      <td>20220416</td>\n",
       "      <td>train</td>\n",
       "      <td>0.64</td>\n",
       "      <td>0.95</td>\n",
       "      <td>0.31</td>\n",
       "      <td>0.95</td>\n",
       "      <td>0.0</td>\n",
       "      <td>0.0</td>\n",
       "      <td>1.0</td>\n",
       "    </tr>\n",
       "    <tr>\n",
       "      <th>2</th>\n",
       "      <td>0</td>\n",
       "      <td>20220417</td>\n",
       "      <td>train</td>\n",
       "      <td>0.64</td>\n",
       "      <td>0.95</td>\n",
       "      <td>0.31</td>\n",
       "      <td>0.95</td>\n",
       "      <td>0.0</td>\n",
       "      <td>0.0</td>\n",
       "      <td>1.0</td>\n",
       "    </tr>\n",
       "    <tr>\n",
       "      <th>3</th>\n",
       "      <td>0</td>\n",
       "      <td>20220418</td>\n",
       "      <td>train</td>\n",
       "      <td>0.64</td>\n",
       "      <td>0.95</td>\n",
       "      <td>0.31</td>\n",
       "      <td>0.95</td>\n",
       "      <td>0.0</td>\n",
       "      <td>0.0</td>\n",
       "      <td>1.0</td>\n",
       "    </tr>\n",
       "    <tr>\n",
       "      <th>4</th>\n",
       "      <td>0</td>\n",
       "      <td>20220419</td>\n",
       "      <td>train</td>\n",
       "      <td>0.64</td>\n",
       "      <td>0.95</td>\n",
       "      <td>0.31</td>\n",
       "      <td>0.95</td>\n",
       "      <td>0.0</td>\n",
       "      <td>0.0</td>\n",
       "      <td>1.0</td>\n",
       "    </tr>\n",
       "  </tbody>\n",
       "</table>\n",
       "</div>"
      ],
      "text/plain": [
       "   id_encode        ds    tag  ele_price  ser_price  after_ser_price  \\\n",
       "0          0  20220415  train       0.64       0.95             0.31   \n",
       "1          0  20220416  train       0.64       0.95             0.31   \n",
       "2          0  20220417  train       0.64       0.95             0.31   \n",
       "3          0  20220418  train       0.64       0.95             0.31   \n",
       "4          0  20220419  train       0.64       0.95             0.31   \n",
       "\n",
       "   total_price   f1   f2   f3  \n",
       "0         0.95  0.0  0.0  1.0  \n",
       "1         0.95  0.0  0.0  1.0  \n",
       "2         0.95  0.0  0.0  1.0  \n",
       "3         0.95  0.0  0.0  1.0  \n",
       "4         0.95  0.0  0.0  1.0  "
      ]
     },
     "execution_count": 10,
     "metadata": {},
     "output_type": "execute_result"
    }
   ],
   "source": [
    "power_history.head()"
   ]
  },
  {
   "cell_type": "code",
   "execution_count": 11,
   "id": "c1c72353-e1d8-48d1-9239-20d9fd3ffd51",
   "metadata": {},
   "outputs": [],
   "source": [
    "power = pd.read_csv('../raw_data/train/power.csv')"
   ]
  },
  {
   "cell_type": "code",
   "execution_count": 12,
   "id": "2a774a48-27f2-4762-a1bb-5807c1c62544",
   "metadata": {},
   "outputs": [],
   "source": [
    "power = power.groupby(['id_encode','ds'])['power'].sum().reset_index()"
   ]
  },
  {
   "cell_type": "code",
   "execution_count": 13,
   "id": "dabb0934-3f2f-4989-84ba-0c958d063d5f",
   "metadata": {},
   "outputs": [],
   "source": [
    "stub_info = pd.read_csv('../raw_data/train/stub_info.csv')"
   ]
  },
  {
   "cell_type": "markdown",
   "id": "da53524e-005c-41ad-90d5-a1459a5717f3",
   "metadata": {},
   "source": [
    "### 可视化EDA"
   ]
  },
  {
   "cell_type": "code",
   "execution_count": 45,
   "id": "4da49d71-8277-4811-aaab-a80942c187fc",
   "metadata": {},
   "outputs": [
    {
     "data": {
      "image/png": "[encoded data removed]",
      "text/plain": [
       "<Figure size 1080x360 with 1 Axes>"
      ]
     },
     "metadata": {
      "needs_background": "light"
     },
     "output_type": "display_data"
    }
   ],
   "source": [
    "power[power['id_encode']==5]['power'].plot(style='-',\n",
    "        figsize=(15, 5),\n",
    "        color=color_pal[6],\n",
    "        title='plot')\n",
    "plt.show()"
   ]
  },
  {
   "cell_type": "code",
   "execution_count": 15,
   "id": "c7014104-23f8-42c2-bbe4-4333f151fe29",
   "metadata": {},
   "outputs": [
    {
     "data": {
      "text/plain": [
       "<matplotlib.axes._subplots.AxesSubplot at 0x7fd50aae1390>"
      ]
     },
     "execution_count": 15,
     "metadata": {},
     "output_type": "execute_result"
    },
    {
     "data": {
      "image/png": "[encoded data removed]",
      "text/plain": [
       "<Figure size 432x288 with 1 Axes>"
      ]
     },
     "metadata": {
      "needs_background": "light"
     },
     "output_type": "display_data"
    }
   ],
   "source": [
    "power['power'].plot(kind='hist', bins=500)"
   ]
  },
  {
   "cell_type": "code",
   "execution_count": 16,
   "id": "d884e948-3095-4552-9974-4fbfe8884406",
   "metadata": {},
   "outputs": [
    {
     "data": {
      "text/plain": [
       "(152544, 10)"
      ]
     },
     "execution_count": 16,
     "metadata": {},
     "output_type": "execute_result"
    }
   ],
   "source": [
    "power_history.shape"
   ]
  },
  {
   "cell_type": "markdown",
   "id": "22e48ddd-15b8-4d6e-bb97-e0054735746b",
   "metadata": {},
   "source": [
    "#### 合并数据集"
   ]
  },
  {
   "cell_type": "code",
   "execution_count": 17,
   "id": "a73a4dfa-0981-491c-be66-ef34b6d2adb0",
   "metadata": {},
   "outputs": [],
   "source": [
    "power_history = power_history.merge(power,on=['id_encode','ds'],how='left')"
   ]
  },
  {
   "cell_type": "code",
   "execution_count": 18,
   "id": "92cba984-d220-4d76-b1df-25a9b2b66e65",
   "metadata": {},
   "outputs": [],
   "source": [
    "power_history = power_history.merge(stub_info,on=['id_encode'],how='left')"
   ]
  },
  {
   "cell_type": "code",
   "execution_count": 19,
   "id": "fffd7bf8-c692-435d-ab12-abb3ee9fe34f",
   "metadata": {},
   "outputs": [],
   "source": [
    "#删除训练集power为空的\n",
    "power_history = power_history[~((power_history['tag']=='train')&(power_history['power'].isnull()))]"
   ]
  },
  {
   "cell_type": "code",
   "execution_count": null,
   "id": "b523ed43-9981-4105-b982-dc968a6128c0",
   "metadata": {},
   "outputs": [],
   "source": []
  },
  {
   "cell_type": "markdown",
   "id": "7a5ef738-2bb0-4392-a72a-045a18bd2283",
   "metadata": {},
   "source": [
    "### 特征工程"
   ]
  },
  {
   "cell_type": "code",
   "execution_count": 20,
   "id": "431e4c73-10eb-48d9-90d7-f74ff6737147",
   "metadata": {},
   "outputs": [],
   "source": [
    "#时间滞后特征\n",
    "for i in range(7, 14):\n",
    "    power_history['lag_{}'.format(i)]=power_history.groupby('id_encode')['power'].shift(i)"
   ]
  },
  {
   "cell_type": "code",
   "execution_count": 21,
   "id": "c10a7452-7629-406a-9453-5c8b4923fde8",
   "metadata": {},
   "outputs": [],
   "source": [
    "power_history['date'] = pd.to_datetime(power_history['ds'].astype(str),format='%Y-%m-%d')"
   ]
  },
  {
   "cell_type": "code",
   "execution_count": 22,
   "id": "dd7caf40-ccdb-4c01-8774-b9345355e2dc",
   "metadata": {},
   "outputs": [],
   "source": [
    "power_history = power_history.reset_index(drop=True)"
   ]
  },
  {
   "cell_type": "code",
   "execution_count": 23,
   "id": "248bd474-951a-4fae-ad79-6bebe0d430e9",
   "metadata": {},
   "outputs": [],
   "source": [
    "#Create time series features\n",
    "power_history['dayofweek'] = power_history['date'].dt.dayofweek\n",
    "power_history['quarter'] = power_history['date'].dt.quarter\n",
    "power_history['month'] = power_history['date'].dt.month\n",
    "power_history['dayofyear'] = power_history['date'].dt.dayofyear\n",
    "power_history['day'] = power_history['date'].dt.day\n",
    "power_history['weekofyear'] = power_history['date'].dt.weekofyear"
   ]
  },
  {
   "cell_type": "code",
   "execution_count": null,
   "id": "b8917816-3911-4037-8aa3-8791245eedc7",
   "metadata": {},
   "outputs": [],
   "source": []
  },
  {
   "cell_type": "code",
   "execution_count": 24,
   "id": "7f0d960f-df88-4606-83ec-3c11cd7546d1",
   "metadata": {},
   "outputs": [],
   "source": [
    "df=power_history.copy()"
   ]
  },
  {
   "cell_type": "code",
   "execution_count": 25,
   "id": "8b799962-08de-4de3-a0a4-fd9fe6b7d695",
   "metadata": {},
   "outputs": [],
   "source": [
    "from sklearn.preprocessing import LabelEncoder\n",
    "le = LabelEncoder()\n",
    "df['h3'] = le.fit_transform(df['h3'])"
   ]
  },
  {
   "cell_type": "code",
   "execution_count": 26,
   "id": "6cc56575-0438-42f3-80d8-ac0ab54b85c0",
   "metadata": {},
   "outputs": [],
   "source": [
    "df['flag'] = df['flag'].replace({'A':1,'B':2})"
   ]
  },
  {
   "cell_type": "code",
   "execution_count": 27,
   "id": "7fef43de-da69-4e54-ab00-60a2e1f74345",
   "metadata": {},
   "outputs": [
    {
     "data": {
      "text/plain": [
       "1    125067\n",
       "2     27477\n",
       "Name: flag, dtype: int64"
      ]
     },
     "execution_count": 27,
     "metadata": {},
     "output_type": "execute_result"
    }
   ],
   "source": [
    "df['flag'].value_counts()"
   ]
  },
  {
   "cell_type": "code",
   "execution_count": 28,
   "id": "3c5e9a49-6f5f-44ae-a052-11befbfce3fc",
   "metadata": {},
   "outputs": [],
   "source": [
    "feat = [i for i in df.columns if i not in['ds','date','power','tag']]"
   ]
  },
  {
   "cell_type": "code",
   "execution_count": 29,
   "id": "fe6a9ff8-0fd3-4a78-8613-9be3a565a574",
   "metadata": {},
   "outputs": [],
   "source": [
    "train_x=df[df['tag']=='train'][feat]"
   ]
  },
  {
   "cell_type": "code",
   "execution_count": 30,
   "id": "05e63763-dec8-44f5-8265-7de1b622d949",
   "metadata": {},
   "outputs": [],
   "source": [
    "train_y=df[df['tag']=='train']['power']"
   ]
  },
  {
   "cell_type": "code",
   "execution_count": 31,
   "id": "1385e03d-66c4-43e7-8ebc-71a31d3c58df",
   "metadata": {},
   "outputs": [],
   "source": [
    "test = df[df['tag']=='test'][feat]"
   ]
  },
  {
   "cell_type": "code",
   "execution_count": 32,
   "id": "23454fbc-3884-4a58-82a2-ef46506d8128",
   "metadata": {},
   "outputs": [],
   "source": [
    "test_p = df[df['tag']=='test'][['id_encode','ds']]"
   ]
  },
  {
   "cell_type": "markdown",
   "id": "03ddd910-cfa3-4be4-872d-e4ee73d874e0",
   "metadata": {},
   "source": [
    "### 建模"
   ]
  },
  {
   "cell_type": "code",
   "execution_count": 33,
   "id": "30ec759c-207b-4dfd-bb49-4e4477500064",
   "metadata": {},
   "outputs": [
    {
     "name": "stdout",
     "output_type": "stream",
     "text": [
      "[0]\tvalidation_0-rmse:1790.24127\tvalidation_1-rmse:1790.87342\n",
      "[100]\tvalidation_0-rmse:764.83542\tvalidation_1-rmse:776.98547\n",
      "[200]\tvalidation_0-rmse:454.85014\tvalidation_1-rmse:483.27485\n",
      "[300]\tvalidation_0-rmse:372.95793\tvalidation_1-rmse:410.91714\n",
      "[400]\tvalidation_0-rmse:342.96849\tvalidation_1-rmse:385.71770\n",
      "[500]\tvalidation_0-rmse:326.28358\tvalidation_1-rmse:371.99064\n",
      "[600]\tvalidation_0-rmse:314.57365\tvalidation_1-rmse:363.06582\n",
      "[700]\tvalidation_0-rmse:305.09259\tvalidation_1-rmse:356.24017\n",
      "[800]\tvalidation_0-rmse:298.68514\tvalidation_1-rmse:352.11764\n",
      "[900]\tvalidation_0-rmse:293.30579\tvalidation_1-rmse:348.63016\n",
      "[1000]\tvalidation_0-rmse:288.16691\tvalidation_1-rmse:345.30029\n",
      "[1100]\tvalidation_0-rmse:283.59628\tvalidation_1-rmse:342.59444\n",
      "[1200]\tvalidation_0-rmse:279.12927\tvalidation_1-rmse:340.26723\n",
      "[1300]\tvalidation_0-rmse:274.72141\tvalidation_1-rmse:338.33284\n",
      "[1400]\tvalidation_0-rmse:270.96484\tvalidation_1-rmse:336.66893\n",
      "[1500]\tvalidation_0-rmse:267.19906\tvalidation_1-rmse:334.74957\n",
      "[1600]\tvalidation_0-rmse:263.82360\tvalidation_1-rmse:333.11265\n",
      "[1700]\tvalidation_0-rmse:260.66267\tvalidation_1-rmse:331.41669\n",
      "[1800]\tvalidation_0-rmse:257.54543\tvalidation_1-rmse:329.79946\n",
      "[1900]\tvalidation_0-rmse:254.45447\tvalidation_1-rmse:328.31430\n",
      "[2000]\tvalidation_0-rmse:251.74948\tvalidation_1-rmse:327.10111\n",
      "[2100]\tvalidation_0-rmse:249.01380\tvalidation_1-rmse:325.82135\n",
      "[2200]\tvalidation_0-rmse:246.50791\tvalidation_1-rmse:324.56425\n",
      "[2300]\tvalidation_0-rmse:244.04525\tvalidation_1-rmse:323.17478\n",
      "[2400]\tvalidation_0-rmse:241.65078\tvalidation_1-rmse:321.92959\n",
      "[2500]\tvalidation_0-rmse:238.92013\tvalidation_1-rmse:320.42581\n",
      "[2600]\tvalidation_0-rmse:236.67412\tvalidation_1-rmse:319.28337\n",
      "[2700]\tvalidation_0-rmse:234.13679\tvalidation_1-rmse:317.78609\n",
      "[2800]\tvalidation_0-rmse:231.93478\tvalidation_1-rmse:316.74394\n",
      "[2900]\tvalidation_0-rmse:229.83388\tvalidation_1-rmse:315.71322\n",
      "[3000]\tvalidation_0-rmse:227.95482\tvalidation_1-rmse:314.96942\n",
      "[3100]\tvalidation_0-rmse:226.29475\tvalidation_1-rmse:314.39860\n",
      "[3200]\tvalidation_0-rmse:224.17040\tvalidation_1-rmse:313.44997\n",
      "[3300]\tvalidation_0-rmse:222.39114\tvalidation_1-rmse:312.73741\n",
      "[3400]\tvalidation_0-rmse:220.63072\tvalidation_1-rmse:311.97372\n",
      "[3500]\tvalidation_0-rmse:218.92321\tvalidation_1-rmse:311.25659\n",
      "[3600]\tvalidation_0-rmse:217.27440\tvalidation_1-rmse:310.42667\n",
      "[3700]\tvalidation_0-rmse:215.11785\tvalidation_1-rmse:309.23214\n",
      "[3800]\tvalidation_0-rmse:213.45908\tvalidation_1-rmse:308.53429\n",
      "[3900]\tvalidation_0-rmse:211.89093\tvalidation_1-rmse:307.98385\n",
      "[4000]\tvalidation_0-rmse:210.26567\tvalidation_1-rmse:307.35904\n",
      "[4100]\tvalidation_0-rmse:208.57670\tvalidation_1-rmse:306.57448\n",
      "[4200]\tvalidation_0-rmse:206.93909\tvalidation_1-rmse:305.85159\n",
      "[4300]\tvalidation_0-rmse:205.33554\tvalidation_1-rmse:305.21896\n",
      "[4400]\tvalidation_0-rmse:203.91854\tvalidation_1-rmse:304.61531\n",
      "[4500]\tvalidation_0-rmse:202.42884\tvalidation_1-rmse:303.99589\n",
      "[4600]\tvalidation_0-rmse:200.83056\tvalidation_1-rmse:303.35024\n",
      "[4700]\tvalidation_0-rmse:199.45170\tvalidation_1-rmse:302.87513\n",
      "[4800]\tvalidation_0-rmse:198.23440\tvalidation_1-rmse:302.50414\n",
      "[4900]\tvalidation_0-rmse:196.68567\tvalidation_1-rmse:301.91517\n",
      "[4999]\tvalidation_0-rmse:195.47781\tvalidation_1-rmse:301.43173\n",
      "cv_score: [301.4317251712148]\n",
      "[0]\tvalidation_0-rmse:1788.14099\tvalidation_1-rmse:1799.21152\n",
      "[100]\tvalidation_0-rmse:765.25334\tvalidation_1-rmse:770.45755\n",
      "[200]\tvalidation_0-rmse:456.78501\tvalidation_1-rmse:472.03248\n",
      "[300]\tvalidation_0-rmse:374.71415\tvalidation_1-rmse:400.18474\n",
      "[400]\tvalidation_0-rmse:343.57964\tvalidation_1-rmse:376.02700\n",
      "[500]\tvalidation_0-rmse:326.78172\tvalidation_1-rmse:363.82587\n",
      "[600]\tvalidation_0-rmse:315.05416\tvalidation_1-rmse:355.67902\n",
      "[700]\tvalidation_0-rmse:305.90239\tvalidation_1-rmse:349.20518\n",
      "[800]\tvalidation_0-rmse:298.72781\tvalidation_1-rmse:344.60165\n",
      "[900]\tvalidation_0-rmse:293.83534\tvalidation_1-rmse:341.63044\n",
      "[1000]\tvalidation_0-rmse:288.35739\tvalidation_1-rmse:338.26217\n",
      "[1100]\tvalidation_0-rmse:283.95757\tvalidation_1-rmse:335.68689\n",
      "[1200]\tvalidation_0-rmse:280.05405\tvalidation_1-rmse:333.53663\n",
      "[1300]\tvalidation_0-rmse:276.72687\tvalidation_1-rmse:331.66817\n",
      "[1400]\tvalidation_0-rmse:272.67283\tvalidation_1-rmse:329.37080\n",
      "[1500]\tvalidation_0-rmse:269.34300\tvalidation_1-rmse:327.65072\n",
      "[1600]\tvalidation_0-rmse:265.91357\tvalidation_1-rmse:325.95379\n",
      "[1700]\tvalidation_0-rmse:262.68894\tvalidation_1-rmse:324.47683\n",
      "[1800]\tvalidation_0-rmse:259.19063\tvalidation_1-rmse:322.83068\n",
      "[1900]\tvalidation_0-rmse:256.13346\tvalidation_1-rmse:321.43599\n",
      "[2000]\tvalidation_0-rmse:253.14682\tvalidation_1-rmse:320.14747\n",
      "[2100]\tvalidation_0-rmse:250.52610\tvalidation_1-rmse:318.96755\n",
      "[2200]\tvalidation_0-rmse:248.02673\tvalidation_1-rmse:318.11343\n",
      "[2300]\tvalidation_0-rmse:245.34526\tvalidation_1-rmse:317.09812\n",
      "[2400]\tvalidation_0-rmse:242.64036\tvalidation_1-rmse:315.93239\n",
      "[2500]\tvalidation_0-rmse:240.03299\tvalidation_1-rmse:314.84504\n",
      "[2600]\tvalidation_0-rmse:237.40553\tvalidation_1-rmse:313.75682\n",
      "[2700]\tvalidation_0-rmse:235.21832\tvalidation_1-rmse:312.90322\n",
      "[2800]\tvalidation_0-rmse:232.79540\tvalidation_1-rmse:311.91211\n",
      "[2900]\tvalidation_0-rmse:230.46459\tvalidation_1-rmse:311.06000\n",
      "[3000]\tvalidation_0-rmse:228.01739\tvalidation_1-rmse:309.95381\n",
      "[3100]\tvalidation_0-rmse:225.43066\tvalidation_1-rmse:308.74740\n",
      "[3200]\tvalidation_0-rmse:223.39708\tvalidation_1-rmse:307.90993\n",
      "[3300]\tvalidation_0-rmse:221.36765\tvalidation_1-rmse:307.16617\n",
      "[3400]\tvalidation_0-rmse:219.85099\tvalidation_1-rmse:306.74019\n",
      "[3500]\tvalidation_0-rmse:218.21285\tvalidation_1-rmse:306.20517\n",
      "[3600]\tvalidation_0-rmse:216.45013\tvalidation_1-rmse:305.54886\n",
      "[3700]\tvalidation_0-rmse:214.51458\tvalidation_1-rmse:304.85928\n",
      "[3800]\tvalidation_0-rmse:212.85564\tvalidation_1-rmse:304.30694\n",
      "[3900]\tvalidation_0-rmse:211.11117\tvalidation_1-rmse:303.68553\n",
      "[4000]\tvalidation_0-rmse:209.49443\tvalidation_1-rmse:303.13951\n",
      "[4100]\tvalidation_0-rmse:207.91979\tvalidation_1-rmse:302.64057\n",
      "[4200]\tvalidation_0-rmse:206.49055\tvalidation_1-rmse:302.14893\n",
      "[4300]\tvalidation_0-rmse:205.23231\tvalidation_1-rmse:301.71356\n",
      "[4400]\tvalidation_0-rmse:203.99181\tvalidation_1-rmse:301.28160\n",
      "[4500]\tvalidation_0-rmse:202.57774\tvalidation_1-rmse:300.75994\n",
      "[4600]\tvalidation_0-rmse:201.27846\tvalidation_1-rmse:300.34444\n",
      "[4700]\tvalidation_0-rmse:199.84024\tvalidation_1-rmse:299.88417\n",
      "[4800]\tvalidation_0-rmse:198.27259\tvalidation_1-rmse:299.31469\n",
      "[4900]\tvalidation_0-rmse:196.84177\tvalidation_1-rmse:298.80229\n",
      "[4999]\tvalidation_0-rmse:195.53988\tvalidation_1-rmse:298.40652\n",
      "cv_score: [301.4317251712148, 298.4057305479266]\n",
      "[0]\tvalidation_0-rmse:1786.23997\tvalidation_1-rmse:1806.90319\n",
      "[100]\tvalidation_0-rmse:763.06516\tvalidation_1-rmse:789.67233\n",
      "[200]\tvalidation_0-rmse:453.83945\tvalidation_1-rmse:490.60027\n",
      "[300]\tvalidation_0-rmse:372.38933\tvalidation_1-rmse:414.20340\n",
      "[400]\tvalidation_0-rmse:341.92650\tvalidation_1-rmse:386.77457\n",
      "[500]\tvalidation_0-rmse:325.54083\tvalidation_1-rmse:373.06555\n",
      "[600]\tvalidation_0-rmse:314.02309\tvalidation_1-rmse:364.33781\n",
      "[700]\tvalidation_0-rmse:304.10229\tvalidation_1-rmse:357.07600\n",
      "[800]\tvalidation_0-rmse:297.68509\tvalidation_1-rmse:352.70917\n",
      "[900]\tvalidation_0-rmse:292.82072\tvalidation_1-rmse:349.31038\n",
      "[1000]\tvalidation_0-rmse:288.93066\tvalidation_1-rmse:346.62370\n",
      "[1100]\tvalidation_0-rmse:284.58173\tvalidation_1-rmse:343.79289\n",
      "[1200]\tvalidation_0-rmse:281.01386\tvalidation_1-rmse:341.73131\n",
      "[1300]\tvalidation_0-rmse:276.99557\tvalidation_1-rmse:339.62810\n",
      "[1400]\tvalidation_0-rmse:272.22917\tvalidation_1-rmse:337.25997\n",
      "[1500]\tvalidation_0-rmse:267.72042\tvalidation_1-rmse:335.01253\n",
      "[1600]\tvalidation_0-rmse:263.97953\tvalidation_1-rmse:333.22904\n",
      "[1700]\tvalidation_0-rmse:260.79652\tvalidation_1-rmse:331.70345\n",
      "[1800]\tvalidation_0-rmse:257.49115\tvalidation_1-rmse:330.09391\n",
      "[1900]\tvalidation_0-rmse:254.13263\tvalidation_1-rmse:328.50117\n",
      "[2700]\tvalidation_0-rmse:232.72350\tvalidation_1-rmse:319.16761\n",
      "[2800]\tvalidation_0-rmse:230.42057\tvalidation_1-rmse:318.30556\n",
      "[2900]\tvalidation_0-rmse:228.22348\tvalidation_1-rmse:317.60072\n",
      "[3000]\tvalidation_0-rmse:226.13845\tvalidation_1-rmse:316.84442\n",
      "[3100]\tvalidation_0-rmse:224.32974\tvalidation_1-rmse:316.07530\n",
      "[3200]\tvalidation_0-rmse:222.74987\tvalidation_1-rmse:315.60300\n",
      "[3300]\tvalidation_0-rmse:220.96272\tvalidation_1-rmse:315.03318\n",
      "[3400]\tvalidation_0-rmse:219.17846\tvalidation_1-rmse:314.38892\n",
      "[3500]\tvalidation_0-rmse:217.34585\tvalidation_1-rmse:313.70381\n",
      "[3600]\tvalidation_0-rmse:215.61532\tvalidation_1-rmse:313.16399\n",
      "[3700]\tvalidation_0-rmse:213.95384\tvalidation_1-rmse:312.54179\n",
      "[3800]\tvalidation_0-rmse:212.62087\tvalidation_1-rmse:312.13684\n",
      "[3900]\tvalidation_0-rmse:210.85122\tvalidation_1-rmse:311.57986\n",
      "[4000]\tvalidation_0-rmse:209.27839\tvalidation_1-rmse:311.10296\n",
      "[4100]\tvalidation_0-rmse:207.51677\tvalidation_1-rmse:310.51414\n",
      "[4200]\tvalidation_0-rmse:206.08231\tvalidation_1-rmse:310.06740\n",
      "[4300]\tvalidation_0-rmse:204.71494\tvalidation_1-rmse:309.75441\n",
      "[4400]\tvalidation_0-rmse:203.47099\tvalidation_1-rmse:309.55360\n",
      "[4500]\tvalidation_0-rmse:201.73530\tvalidation_1-rmse:309.02858\n",
      "[4600]\tvalidation_0-rmse:200.20149\tvalidation_1-rmse:308.52850\n",
      "[4700]\tvalidation_0-rmse:198.88553\tvalidation_1-rmse:308.19028\n",
      "[4800]\tvalidation_0-rmse:197.40462\tvalidation_1-rmse:307.70350\n",
      "[4900]\tvalidation_0-rmse:196.17645\tvalidation_1-rmse:307.42127\n",
      "[4999]\tvalidation_0-rmse:194.92505\tvalidation_1-rmse:306.98329\n",
      "cv_score: [301.4317251712148, 298.4057305479266, 306.9832864939011]\n",
      "[0]\tvalidation_0-rmse:1795.86136\tvalidation_1-rmse:1768.21405\n",
      "[100]\tvalidation_0-rmse:767.81024\tvalidation_1-rmse:762.88038\n",
      "[200]\tvalidation_0-rmse:456.54127\tvalidation_1-rmse:470.08938\n",
      "[300]\tvalidation_0-rmse:373.79626\tvalidation_1-rmse:397.83309\n",
      "[400]\tvalidation_0-rmse:343.08825\tvalidation_1-rmse:373.19815\n",
      "[500]\tvalidation_0-rmse:327.03228\tvalidation_1-rmse:360.43251\n",
      "[600]\tvalidation_0-rmse:315.02461\tvalidation_1-rmse:351.81555\n",
      "[700]\tvalidation_0-rmse:305.38348\tvalidation_1-rmse:345.03336\n",
      "[800]\tvalidation_0-rmse:297.94466\tvalidation_1-rmse:340.05415\n",
      "[900]\tvalidation_0-rmse:292.29171\tvalidation_1-rmse:336.61659\n",
      "[1000]\tvalidation_0-rmse:287.75807\tvalidation_1-rmse:333.93899\n",
      "[1100]\tvalidation_0-rmse:283.83362\tvalidation_1-rmse:331.55234\n",
      "[1200]\tvalidation_0-rmse:278.62958\tvalidation_1-rmse:328.44114\n",
      "[1300]\tvalidation_0-rmse:273.63289\tvalidation_1-rmse:325.49160\n",
      "[1400]\tvalidation_0-rmse:269.38427\tvalidation_1-rmse:323.41024\n",
      "[1500]\tvalidation_0-rmse:265.82752\tvalidation_1-rmse:321.87915\n",
      "[1600]\tvalidation_0-rmse:262.28531\tvalidation_1-rmse:320.08358\n",
      "[1700]\tvalidation_0-rmse:258.65436\tvalidation_1-rmse:318.32059\n",
      "[1800]\tvalidation_0-rmse:255.43227\tvalidation_1-rmse:316.79055\n",
      "[1900]\tvalidation_0-rmse:252.64078\tvalidation_1-rmse:315.42278\n",
      "[2000]\tvalidation_0-rmse:249.82271\tvalidation_1-rmse:314.10122\n",
      "[2100]\tvalidation_0-rmse:247.37135\tvalidation_1-rmse:312.97996\n",
      "[2200]\tvalidation_0-rmse:244.89647\tvalidation_1-rmse:311.75560\n",
      "[2300]\tvalidation_0-rmse:242.29063\tvalidation_1-rmse:310.60249\n",
      "[2400]\tvalidation_0-rmse:239.94228\tvalidation_1-rmse:309.55644\n",
      "[2500]\tvalidation_0-rmse:237.67244\tvalidation_1-rmse:308.58779\n",
      "[2600]\tvalidation_0-rmse:235.37290\tvalidation_1-rmse:307.63716\n",
      "[2700]\tvalidation_0-rmse:232.86981\tvalidation_1-rmse:306.61302\n",
      "[2800]\tvalidation_0-rmse:230.69648\tvalidation_1-rmse:305.81257\n",
      "[2900]\tvalidation_0-rmse:228.50711\tvalidation_1-rmse:305.03109\n",
      "[3000]\tvalidation_0-rmse:226.61163\tvalidation_1-rmse:304.43467\n",
      "[3100]\tvalidation_0-rmse:224.62860\tvalidation_1-rmse:303.70612\n",
      "[3200]\tvalidation_0-rmse:222.79448\tvalidation_1-rmse:303.08052\n",
      "[3300]\tvalidation_0-rmse:220.98226\tvalidation_1-rmse:302.46402\n",
      "[3400]\tvalidation_0-rmse:219.09155\tvalidation_1-rmse:301.74374\n",
      "[3500]\tvalidation_0-rmse:217.30858\tvalidation_1-rmse:301.06842\n",
      "[3600]\tvalidation_0-rmse:215.82276\tvalidation_1-rmse:300.60875\n",
      "[3700]\tvalidation_0-rmse:214.26305\tvalidation_1-rmse:300.16613\n",
      "[3800]\tvalidation_0-rmse:212.64896\tvalidation_1-rmse:299.55696\n",
      "[3900]\tvalidation_0-rmse:210.93599\tvalidation_1-rmse:298.96991\n",
      "[4000]\tvalidation_0-rmse:209.28504\tvalidation_1-rmse:298.37313\n",
      "[4100]\tvalidation_0-rmse:207.59357\tvalidation_1-rmse:297.80579\n",
      "[4200]\tvalidation_0-rmse:206.10277\tvalidation_1-rmse:297.31937\n",
      "[4300]\tvalidation_0-rmse:204.90824\tvalidation_1-rmse:296.96126\n",
      "[4400]\tvalidation_0-rmse:203.36464\tvalidation_1-rmse:296.46186\n",
      "[4500]\tvalidation_0-rmse:201.97940\tvalidation_1-rmse:296.10482\n",
      "[4600]\tvalidation_0-rmse:200.56538\tvalidation_1-rmse:295.70615\n",
      "[4700]\tvalidation_0-rmse:199.08348\tvalidation_1-rmse:295.12034\n",
      "[4800]\tvalidation_0-rmse:197.68400\tvalidation_1-rmse:294.67926\n",
      "[4900]\tvalidation_0-rmse:196.40005\tvalidation_1-rmse:294.26795\n",
      "[4999]\tvalidation_0-rmse:195.21962\tvalidation_1-rmse:293.93472\n",
      "cv_score: [301.4317251712148, 298.4057305479266, 306.9832864939011, 293.93472050813835]\n",
      "[0]\tvalidation_0-rmse:1791.30571\tvalidation_1-rmse:1786.57515\n",
      "[100]\tvalidation_0-rmse:764.73374\tvalidation_1-rmse:775.36748\n",
      "[200]\tvalidation_0-rmse:454.06236\tvalidation_1-rmse:484.10884\n",
      "[300]\tvalidation_0-rmse:371.60911\tvalidation_1-rmse:413.04790\n",
      "[400]\tvalidation_0-rmse:341.75462\tvalidation_1-rmse:388.33056\n",
      "[500]\tvalidation_0-rmse:325.69486\tvalidation_1-rmse:374.89695\n",
      "[600]\tvalidation_0-rmse:313.48177\tvalidation_1-rmse:365.24014\n",
      "[700]\tvalidation_0-rmse:303.84749\tvalidation_1-rmse:357.89472\n",
      "[800]\tvalidation_0-rmse:297.12523\tvalidation_1-rmse:353.12193\n",
      "[900]\tvalidation_0-rmse:291.49650\tvalidation_1-rmse:349.32491\n",
      "[1000]\tvalidation_0-rmse:287.09664\tvalidation_1-rmse:346.50035\n",
      "[1100]\tvalidation_0-rmse:282.93379\tvalidation_1-rmse:343.88932\n",
      "[1200]\tvalidation_0-rmse:279.33729\tvalidation_1-rmse:341.68226\n",
      "[1300]\tvalidation_0-rmse:274.80348\tvalidation_1-rmse:338.87475\n",
      "[1400]\tvalidation_0-rmse:271.02738\tvalidation_1-rmse:336.77186\n",
      "[1500]\tvalidation_0-rmse:267.29117\tvalidation_1-rmse:334.58833\n",
      "[1600]\tvalidation_0-rmse:264.00969\tvalidation_1-rmse:332.79796\n",
      "[1700]\tvalidation_0-rmse:260.81471\tvalidation_1-rmse:331.17300\n",
      "[1800]\tvalidation_0-rmse:257.69961\tvalidation_1-rmse:329.55713\n",
      "[1900]\tvalidation_0-rmse:253.70784\tvalidation_1-rmse:327.29416\n",
      "[2000]\tvalidation_0-rmse:250.50015\tvalidation_1-rmse:325.72259\n",
      "[2100]\tvalidation_0-rmse:247.40474\tvalidation_1-rmse:324.37335\n",
      "[2200]\tvalidation_0-rmse:244.37507\tvalidation_1-rmse:323.06675\n",
      "[2300]\tvalidation_0-rmse:241.55289\tvalidation_1-rmse:321.87141\n",
      "[2400]\tvalidation_0-rmse:239.07404\tvalidation_1-rmse:320.96838\n",
      "[2500]\tvalidation_0-rmse:236.52681\tvalidation_1-rmse:319.83255\n",
      "[2600]\tvalidation_0-rmse:234.03334\tvalidation_1-rmse:318.67990\n",
      "[2700]\tvalidation_0-rmse:232.02492\tvalidation_1-rmse:317.97760\n",
      "[2800]\tvalidation_0-rmse:229.78956\tvalidation_1-rmse:317.07617\n",
      "[2900]\tvalidation_0-rmse:227.71676\tvalidation_1-rmse:316.22970\n",
      "[3000]\tvalidation_0-rmse:225.72897\tvalidation_1-rmse:315.38990\n",
      "[3100]\tvalidation_0-rmse:223.60199\tvalidation_1-rmse:314.53923\n",
      "[3200]\tvalidation_0-rmse:221.57838\tvalidation_1-rmse:313.77151\n",
      "[3300]\tvalidation_0-rmse:219.64261\tvalidation_1-rmse:313.05000\n",
      "[3400]\tvalidation_0-rmse:217.73493\tvalidation_1-rmse:312.30703\n",
      "[3500]\tvalidation_0-rmse:216.08822\tvalidation_1-rmse:311.72389\n",
      "[3600]\tvalidation_0-rmse:214.34659\tvalidation_1-rmse:311.02774\n",
      "[3700]\tvalidation_0-rmse:212.59006\tvalidation_1-rmse:310.38295\n",
      "[3800]\tvalidation_0-rmse:211.01498\tvalidation_1-rmse:309.88719\n",
      "[3900]\tvalidation_0-rmse:209.51069\tvalidation_1-rmse:309.41366\n",
      "[4000]\tvalidation_0-rmse:207.83457\tvalidation_1-rmse:308.76691\n",
      "[4100]\tvalidation_0-rmse:206.23731\tvalidation_1-rmse:308.28325\n",
      "[4200]\tvalidation_0-rmse:204.69497\tvalidation_1-rmse:307.76874\n",
      "[4300]\tvalidation_0-rmse:203.27786\tvalidation_1-rmse:307.38484\n",
      "[4400]\tvalidation_0-rmse:201.84173\tvalidation_1-rmse:307.02761\n",
      "[4500]\tvalidation_0-rmse:200.37655\tvalidation_1-rmse:306.63374\n",
      "[4600]\tvalidation_0-rmse:198.95675\tvalidation_1-rmse:306.14442\n",
      "[4700]\tvalidation_0-rmse:197.74129\tvalidation_1-rmse:305.70991\n",
      "[4800]\tvalidation_0-rmse:196.55845\tvalidation_1-rmse:305.36735\n",
      "[4900]\tvalidation_0-rmse:195.26233\tvalidation_1-rmse:304.98914\n",
      "[4999]\tvalidation_0-rmse:193.82906\tvalidation_1-rmse:304.54658\n",
      "cv_score: [301.4317251712148, 298.4057305479266, 306.9832864939011, 293.93472050813835, 304.5465774600151]\n"
     ]
    }
   ],
   "source": [
    "folds = 5\n",
    "seed = 2020\n",
    "kf = KFold(n_splits=folds, shuffle=True, random_state=seed)\n",
    "\n",
    "#fold = 0\n",
    "preds = []\n",
    "oof = np.zeros(train_x.shape[0])\n",
    "pred = np.zeros(test.shape[0])\n",
    "\n",
    "scores = []\n",
    "for train_idx, val_idx in kf.split(train_x, train_y):\n",
    "    X_train = train_x.iloc[train_idx]\n",
    "    y_train = train_y.iloc[train_idx]\n",
    "\n",
    "    X_test = train_x.iloc[val_idx]\n",
    "    y_test = train_y.iloc[val_idx]\n",
    "\n",
    "    reg = xgb.XGBRegressor(base_score=0.5, booster='gbtree',    \n",
    "                           n_estimators=5000,\n",
    "                           early_stopping_rounds=50,\n",
    "                           objective='reg:squarederror',\n",
    "                           max_depth=7,\n",
    "                           learning_rate=0.01)\n",
    "    reg.fit(X_train, y_train,\n",
    "            eval_set=[(X_train, y_train), (X_test, y_test)],\n",
    "            verbose=100)\n",
    "\n",
    "    y_pred = reg.predict(X_test)\n",
    "    oof[val_idx] =y_pred\n",
    "    preds.append(y_pred)\n",
    "    score = np.sqrt(mean_squared_error(y_test, y_pred))\n",
    "    scores.append(score)\n",
    "    print('cv_score:',scores)\n",
    "    \n",
    "    test_pred = reg.predict(test)\n",
    "    pred += test_pred / kf.n_splits\n",
    "    "
   ]
  },
  {
   "cell_type": "code",
   "execution_count": 34,
   "id": "12188de9-4245-44be-85cb-6cbfeb95c3e5",
   "metadata": {},
   "outputs": [
    {
     "data": {
      "text/plain": [
       "array([2126.55264282, 2128.84146118, 2116.40386963, ...,  589.42785645,\n",
       "        577.35363007,  558.6365509 ])"
      ]
     },
     "execution_count": 34,
     "metadata": {},
     "output_type": "execute_result"
    }
   ],
   "source": [
    "pred"
   ]
  },
  {
   "cell_type": "code",
   "execution_count": 35,
   "id": "ac8eecb0-7cdd-4e52-a42c-28f726d1a7b1",
   "metadata": {},
   "outputs": [],
   "source": [
    "test_p['power']=pred"
   ]
  },
  {
   "cell_type": "code",
   "execution_count": 36,
   "id": "b8df5b92-c72f-46ef-b4c9-78ecba0e02c3",
   "metadata": {},
   "outputs": [
    {
     "data": {
      "text/html": [
       "<div>\n",
       "<style scoped>\n",
       "    .dataframe tbody tr th:only-of-type {\n",
       "        vertical-align: middle;\n",
       "    }\n",
       "\n",
       "    .dataframe tbody tr th {\n",
       "        vertical-align: top;\n",
       "    }\n",
       "\n",
       "    .dataframe thead th {\n",
       "        text-align: right;\n",
       "    }\n",
       "</style>\n",
       "<table border=\"1\" class=\"dataframe\">\n",
       "  <thead>\n",
       "    <tr style=\"text-align: right;\">\n",
       "      <th></th>\n",
       "      <th>id_encode</th>\n",
       "      <th>ds</th>\n",
       "      <th>power</th>\n",
       "    </tr>\n",
       "  </thead>\n",
       "  <tbody>\n",
       "    <tr>\n",
       "      <th>31894</th>\n",
       "      <td>105</td>\n",
       "      <td>20230416</td>\n",
       "      <td>-0.012796</td>\n",
       "    </tr>\n",
       "    <tr>\n",
       "      <th>31897</th>\n",
       "      <td>105</td>\n",
       "      <td>20230419</td>\n",
       "      <td>-6.717117</td>\n",
       "    </tr>\n",
       "    <tr>\n",
       "      <th>31898</th>\n",
       "      <td>105</td>\n",
       "      <td>20230420</td>\n",
       "      <td>-49.420790</td>\n",
       "    </tr>\n",
       "    <tr>\n",
       "      <th>31899</th>\n",
       "      <td>105</td>\n",
       "      <td>20230421</td>\n",
       "      <td>-15.573680</td>\n",
       "    </tr>\n",
       "    <tr>\n",
       "      <th>58430</th>\n",
       "      <td>185</td>\n",
       "      <td>20230417</td>\n",
       "      <td>-0.634254</td>\n",
       "    </tr>\n",
       "    <tr>\n",
       "      <th>58434</th>\n",
       "      <td>185</td>\n",
       "      <td>20230421</td>\n",
       "      <td>-3.420090</td>\n",
       "    </tr>\n",
       "  </tbody>\n",
       "</table>\n",
       "</div>"
      ],
      "text/plain": [
       "       id_encode        ds      power\n",
       "31894        105  20230416  -0.012796\n",
       "31897        105  20230419  -6.717117\n",
       "31898        105  20230420 -49.420790\n",
       "31899        105  20230421 -15.573680\n",
       "58430        185  20230417  -0.634254\n",
       "58434        185  20230421  -3.420090"
      ]
     },
     "execution_count": 36,
     "metadata": {},
     "output_type": "execute_result"
    }
   ],
   "source": [
    "test_p[test_p['power']<0]"
   ]
  },
  {
   "cell_type": "code",
   "execution_count": 37,
   "id": "911a0aba-4894-420d-934c-6abf8287b2ae",
   "metadata": {},
   "outputs": [],
   "source": [
    "test_p['power']=test_p['power'].apply(lambda x : 0 if x<0 else x)"
   ]
  },
  {
   "cell_type": "code",
   "execution_count": 38,
   "id": "1814542b-00f8-4815-a993-a531c028f413",
   "metadata": {},
   "outputs": [
    {
     "data": {
      "text/html": [
       "<div>\n",
       "<style scoped>\n",
       "    .dataframe tbody tr th:only-of-type {\n",
       "        vertical-align: middle;\n",
       "    }\n",
       "\n",
       "    .dataframe tbody tr th {\n",
       "        vertical-align: top;\n",
       "    }\n",
       "\n",
       "    .dataframe thead th {\n",
       "        text-align: right;\n",
       "    }\n",
       "</style>\n",
       "<table border=\"1\" class=\"dataframe\">\n",
       "  <thead>\n",
       "    <tr style=\"text-align: right;\">\n",
       "      <th></th>\n",
       "      <th>id_encode</th>\n",
       "      <th>ds</th>\n",
       "      <th>power</th>\n",
       "    </tr>\n",
       "  </thead>\n",
       "  <tbody>\n",
       "    <tr>\n",
       "      <th>365</th>\n",
       "      <td>0</td>\n",
       "      <td>20230415</td>\n",
       "      <td>2126.552643</td>\n",
       "    </tr>\n",
       "    <tr>\n",
       "      <th>366</th>\n",
       "      <td>0</td>\n",
       "      <td>20230416</td>\n",
       "      <td>2128.841461</td>\n",
       "    </tr>\n",
       "    <tr>\n",
       "      <th>367</th>\n",
       "      <td>0</td>\n",
       "      <td>20230417</td>\n",
       "      <td>2116.403870</td>\n",
       "    </tr>\n",
       "    <tr>\n",
       "      <th>368</th>\n",
       "      <td>0</td>\n",
       "      <td>20230418</td>\n",
       "      <td>2127.828613</td>\n",
       "    </tr>\n",
       "    <tr>\n",
       "      <th>369</th>\n",
       "      <td>0</td>\n",
       "      <td>20230419</td>\n",
       "      <td>2141.299255</td>\n",
       "    </tr>\n",
       "    <tr>\n",
       "      <th>...</th>\n",
       "      <td>...</td>\n",
       "      <td>...</td>\n",
       "      <td>...</td>\n",
       "    </tr>\n",
       "    <tr>\n",
       "      <th>152539</th>\n",
       "      <td>499</td>\n",
       "      <td>20230417</td>\n",
       "      <td>603.143105</td>\n",
       "    </tr>\n",
       "    <tr>\n",
       "      <th>152540</th>\n",
       "      <td>499</td>\n",
       "      <td>20230418</td>\n",
       "      <td>584.137962</td>\n",
       "    </tr>\n",
       "    <tr>\n",
       "      <th>152541</th>\n",
       "      <td>499</td>\n",
       "      <td>20230419</td>\n",
       "      <td>589.427856</td>\n",
       "    </tr>\n",
       "    <tr>\n",
       "      <th>152542</th>\n",
       "      <td>499</td>\n",
       "      <td>20230420</td>\n",
       "      <td>577.353630</td>\n",
       "    </tr>\n",
       "    <tr>\n",
       "      <th>152543</th>\n",
       "      <td>499</td>\n",
       "      <td>20230421</td>\n",
       "      <td>558.636551</td>\n",
       "    </tr>\n",
       "  </tbody>\n",
       "</table>\n",
       "<p>3500 rows × 3 columns</p>\n",
       "</div>"
      ],
      "text/plain": [
       "        id_encode        ds        power\n",
       "365             0  20230415  2126.552643\n",
       "366             0  20230416  2128.841461\n",
       "367             0  20230417  2116.403870\n",
       "368             0  20230418  2127.828613\n",
       "369             0  20230419  2141.299255\n",
       "...           ...       ...          ...\n",
       "152539        499  20230417   603.143105\n",
       "152540        499  20230418   584.137962\n",
       "152541        499  20230419   589.427856\n",
       "152542        499  20230420   577.353630\n",
       "152543        499  20230421   558.636551\n",
       "\n",
       "[3500 rows x 3 columns]"
      ]
     },
     "execution_count": 38,
     "metadata": {},
     "output_type": "execute_result"
    }
   ],
   "source": [
    "test_p"
   ]
  },
  {
   "cell_type": "code",
   "execution_count": 39,
   "id": "350931d4-4375-4655-b776-38f918ed527a",
   "metadata": {},
   "outputs": [],
   "source": [
    "#sub = test_p.groupby(['id_encode','ds'])['power'].sum().reset_index()"
   ]
  },
  {
   "cell_type": "code",
   "execution_count": 40,
   "id": "2df7c271-7f2a-49e2-8087-2f949ae26e74",
   "metadata": {},
   "outputs": [],
   "source": [
    "sub=test_p.copy()"
   ]
  },
  {
   "cell_type": "code",
   "execution_count": 41,
   "id": "022b7f86-803f-4031-9585-1021d30681ab",
   "metadata": {},
   "outputs": [],
   "source": [
    "sub.to_csv('sub.csv',index=False)"
   ]
  },
  {
   "cell_type": "markdown",
   "id": "4e8f1a16-f7e2-4f39-858d-89fe908d415c",
   "metadata": {},
   "source": [
    "### 结果可视化"
   ]
  },
  {
   "cell_type": "code",
   "execution_count": 42,
   "id": "c335d692-3c44-477b-8add-9a0a991120a2",
   "metadata": {},
   "outputs": [],
   "source": [
    "trian_dd = df[(df['tag']=='train')][['id_encode','ds','power']]\n",
    "trian_dd = trian_dd.set_index('ds')"
   ]
  },
  {
   "cell_type": "code",
   "execution_count": 43,
   "id": "bbe9bcad-bb4c-4732-99c9-8c0e80c16f6b",
   "metadata": {},
   "outputs": [],
   "source": [
    "test_dd = test_p.copy()\n",
    "test_dd = test_dd.set_index('ds')"
   ]
  },
  {
   "cell_type": "code",
   "execution_count": 44,
   "id": "8b3b525e-9ed1-444f-aab7-8cd2c6f6c0b2",
   "metadata": {},
   "outputs": [
    {
     "data": {
      "image/png": "[encoded data removed]",
      "text/plain": [
       "<Figure size 1080x1080 with 5 Axes>"
      ]
     },
     "metadata": {
      "needs_background": "light"
     },
     "output_type": "display_data"
    }
   ],
   "source": [
    "fig, axs = plt.subplots(5, 1, figsize=(15, 15), sharex=True)\n",
    "for i in range(5):\n",
    "    trian_dd[trian_dd['id_encode']==i]['power'][-60:].plot(ax=axs[i],\n",
    "                      label='Training Set',\n",
    "                      title='Data Train/Test Split-id_encode-{}'.format(i))\n",
    "    test_dd[test_dd['id_encode']==i]['power'].plot(ax=axs[i],\n",
    "                     label='Test Set')\n",
    "    axs[i].axvline(test_dd.index.min(), color='black', ls='--')"
   ]
  }
 ],
 "metadata": {
  "kernelspec": {
   "display_name": "Python 3",
   "language": "python",
   "name": "python3"
  },
  "language_info": {
   "codemirror_mode": {
    "name": "ipython",
    "version": 3
   },
   "file_extension": ".py",
   "mimetype": "text/x-python",
   "name": "python",
   "nbconvert_exporter": "python",
   "pygments_lexer": "ipython3",
   "version": "3.7.6"
  }
 },
 "nbformat": 4,
 "nbformat_minor": 5
}
